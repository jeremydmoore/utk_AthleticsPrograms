{
 "cells": [
  {
   "cell_type": "code",
   "execution_count": 21,
   "metadata": {},
   "outputs": [],
   "source": [
    "# imports\n",
    "from pathlib import Path\n",
    "\n",
    "from ipywidgets import IntProgress, Label, VBox\n",
    "from IPython.display import display"
   ]
  },
  {
   "cell_type": "code",
   "execution_count": 14,
   "metadata": {},
   "outputs": [],
   "source": [
    "# variables\n",
    "root_path = Path('/Users/dlisla/Pictures/athletics_programs/Output/')\n",
    "\n",
    "input_dir_path = root_path.joinpath('0.jp2_toValidate')\n",
    "error_dir_path = root_path.joinpath('0a.jp2_errors')\n",
    "valid_dir_path = root_path.joinpath('1.jp2_toQC')\n",
    "\n",
    "# jHove comamand and module\n",
    "jhove = '~/jhove/jhove'  # jHove location\n",
    "jp2_module = '-m JPEG2000-hul'\n",
    "tif_module = '-m  TIFF-hul'"
   ]
  },
  {
   "cell_type": "code",
   "execution_count": 28,
   "metadata": {},
   "outputs": [],
   "source": [
    "# functions\n",
    "\n",
    "# def batch_process(root_path):\n",
    "#     dir_path_list = sorted([x for x in root_path.iterdir() if x.is_dir()])\n",
    "#     for dir_path in dir_path_list:\n",
    "#         print(f'processing {dir_path} . . . ')\n",
    "#         errors = jhove_jp2(dir_path)\n",
    "#         if errors:\n",
    "#             print(f'errors: {errors}\\n')\n",
    "#         else:\n",
    "#             print('No errors found\\n')\n",
    "\n",
    "def delete_dot_files(directory):\n",
    "    dir_path = Path(directory)\n",
    "    dot_file_path_list = list(dir_path.glob('**/.*'))\n",
    "    print(f'Number of dot files before delete: {len(dot_file_path_list)}')\n",
    "    for dot_file_path in dot_file_path_list:\n",
    "        dot_file_path.unlink()\n",
    "    dot_file_path_list = list(dir_path.glob('**/.*'))\n",
    "    print(f'After delete: {len(dot_file_path_list)}')\n",
    "\n",
    "    \n",
    "def jhove_validate(directory):\n",
    "    \n",
    "    dir_path = Path(directory)\n",
    "    print(f'jHove validating JP2s in {dir_path}')\n",
    "    \n",
    "    # get list of jp2 files & delete all .*.jp2 dot files\n",
    "    jp2_path_list = sorted(dir_path.glob('**/*.jp2'))\n",
    "    delete_dot_files(dir_path)\n",
    "    jp2_path_list = sorted(dir_path.glob('**/*.jp2'))\n",
    "    number_of_jp2 = len(jp2_path_list)\n",
    "    print(f'Processing ---> {number_of_jp2} *.jp2 <--- in {dir_path}')\n",
    "    \n",
    "    # progress bar\n",
    "    progress_label = Label('jHove verify images')\n",
    "    progress_bar = IntProgress(min=0, max=number_of_jp2)\n",
    "    progress_widget = VBox([progress_label, progress_bar])\n",
    "    display(progress_widget)\n",
    "    \n",
    "    # loop through images\n",
    "    for i, jp2_path in enumerate(jp2_path_list):\n",
    "        \n",
    "        label = f'jHove validating {jp2_path.name}'\n",
    "        progress_label.value = label\n",
    "        \n",
    "        # get identifier file list\n",
    "        identifier_path_list = list(jp2_path.parent.glob(f'{jp2_path.stem}.*'))\n",
    "        #print(identifier_path_list)\n",
    "        \n",
    "        # every 10 images print out an update\n",
    "#         if i % 10 == 0:\n",
    "#             print(f'processing image: {jp2_path.name}\\nimage {i+1} of {number_of_jp2}')\n",
    "        \n",
    "        # validate image\n",
    "        status = !{jhove} {jp2_module} \"{str(jp2_path)}\" | grep -e 'Status:'\n",
    "        status = status[0]  # get first item in list\n",
    "        # print(status)\n",
    "        # set output directory path\n",
    "        if status == '  Status: Well-Formed and valid':\n",
    "            output_dir_path = valid_dir_path\n",
    "                \n",
    "        else:  # not valid\n",
    "            output_dir_path = error_dir_path\n",
    "        \n",
    "        # move identifier files\n",
    "        for identifier_path in identifier_path_list:\n",
    "            new_identifier_path = output_dir_path.joinpath(identifier_path.name)\n",
    "            identifier_path.rename(new_identifier_path)\n",
    "        \n",
    "        progress_bar.value = i + 1\n",
    "            \n",
    "        \n",
    "\n"
   ]
  },
  {
   "cell_type": "code",
   "execution_count": 29,
   "metadata": {},
   "outputs": [
    {
     "name": "stdout",
     "output_type": "stream",
     "text": [
      "jHove validating JP2s in /Users/dlisla/Pictures/athletics_programs/Output/0.jp2_toValidate\n",
      "Number of dot files before delete: 0\n",
      "After delete: 0\n",
      "Processing ---> 710 *.jp2 <--- in /Users/dlisla/Pictures/athletics_programs/Output/0.jp2_toValidate\n"
     ]
    },
    {
     "data": {
      "application/vnd.jupyter.widget-view+json": {
       "model_id": "918835f8d00842e1a192c3d7bd5648fa",
       "version_major": 2,
       "version_minor": 0
      },
      "text/plain": [
       "VBox(children=(Label(value='jHove verify images'), IntProgress(value=0, max=710)))"
      ]
     },
     "metadata": {},
     "output_type": "display_data"
    }
   ],
   "source": [
    "jhove_validate(input_dir_path)"
   ]
  },
  {
   "cell_type": "code",
   "execution_count": 6,
   "metadata": {},
   "outputs": [],
   "source": [
    "!open {str(root_path)}"
   ]
  },
  {
   "cell_type": "code",
   "execution_count": null,
   "metadata": {},
   "outputs": [],
   "source": []
  }
 ],
 "metadata": {
  "kernelspec": {
   "display_name": "Python 3",
   "language": "python",
   "name": "python3"
  },
  "language_info": {
   "codemirror_mode": {
    "name": "ipython",
    "version": 3
   },
   "file_extension": ".py",
   "mimetype": "text/x-python",
   "name": "python",
   "nbconvert_exporter": "python",
   "pygments_lexer": "ipython3",
   "version": "3.7.7"
  }
 },
 "nbformat": 4,
 "nbformat_minor": 4
}
